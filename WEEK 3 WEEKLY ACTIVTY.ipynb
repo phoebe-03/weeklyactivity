{
 "cells": [
  {
   "cell_type": "markdown",
   "id": "2c56eef1",
   "metadata": {},
   "source": [
    "## Exercises\n",
    "\n",
    "1. Load and display the image 'dog.jfif'. Save the image in png format.\n",
    "2. *Suggest 2 ways and write codes to display 2 images simultaneously.* You can use any image snapped from your handphone, downloaded from internet or images from weekly materials on MS teams. The 2 images are original color image and its corresponding grayscale image.\n",
    "3. Write codes that performs the following:\n",
    "    * Load the video “img_pexels.mp4” into the Python environment, resize it and display the videos with smaller frames (The frames can be of any size, as long as it is smaller). You can specify an arbitrary frame rate.\n",
    "    * Save it as a separate files: “smaller_img_pexels.avi” or \"smaller_img_pexels.mp4\"\n",
    "4. Enlarge the image \"dog.jfif\" by using different techniques:\n",
    "    1) Linear interpolation\n",
    "   2) Cubic interpolation\n",
    "   3) Nearest neighbor interpolation.\n",
    "\n",
    "Upscale the images by **4 times** on its respective dimensions. Perform profiling on each method. Comment on the **execution times** and **quality of resulting images**."
   ]
  },
  {
   "cell_type": "code",
   "execution_count": 1,
   "id": "c6187b83",
   "metadata": {},
   "outputs": [
    {
     "data": {
      "text/plain": [
       "True"
      ]
     },
     "execution_count": 1,
     "metadata": {},
     "output_type": "execute_result"
    }
   ],
   "source": [
    "import sys\n",
    "# Python 3.8 is required\n",
    "assert sys.version_info >= (3, 8)\n",
    "\n",
    "import cv2 as cv\n",
    "import numpy as np\n",
    "\n",
    "# Make sure that OpenCV optimization is enabled\n",
    "if not cv.useOptimized():\n",
    "    cv.setUseOptimized(True)\n",
    "    \n",
    "cv.useOptimized()"
   ]
  },
  {
   "cell_type": "code",
   "execution_count": 2,
   "id": "9e332ab2",
   "metadata": {},
   "outputs": [],
   "source": [
    "#Question 1\n",
    "img = cv.imread('images/images/dog.jfif')\n",
    "cv.imshow('image',img)\n",
    "cv.waitKey(0)\n",
    "cv.destroyAllWindows()"
   ]
  },
  {
   "cell_type": "code",
   "execution_count": 3,
   "id": "e9412b69",
   "metadata": {},
   "outputs": [
    {
     "data": {
      "text/plain": [
       "True"
      ]
     },
     "execution_count": 3,
     "metadata": {},
     "output_type": "execute_result"
    }
   ],
   "source": [
    "latest_name='images/images/dog.png'\n",
    "cv.imwrite(latest_name,img)"
   ]
  },
  {
   "cell_type": "code",
   "execution_count": 4,
   "id": "d4805110",
   "metadata": {},
   "outputs": [],
   "source": [
    "#Question 2\n",
    "#First way \n",
    "img_sunset = cv.imread('images/images/sunset.png')\n",
    "img_sunset_grayscale = cv.imread('images/images/sunset.png',0)\n",
    "\n",
    "cv.imshow('image',img_sunset)\n",
    "cv.imshow('image_grayscale',img_sunset_grayscale)\n",
    "cv.waitKey(0)\n",
    "cv.destroyAllWindows()"
   ]
  },
  {
   "cell_type": "code",
   "execution_count": 5,
   "id": "bc87504b",
   "metadata": {},
   "outputs": [],
   "source": [
    "#Question 2\n",
    "#Second way \n",
    "img_sunset2 = cv.imread('images/images/sunset.png',cv.IMREAD_UNCHANGED)\n",
    "img_sunset_grayscale2 = cv.imread('images/images/sunset.png',cv.IMREAD_GRAYSCALE)\n",
    "\n",
    "cv.imshow('image2',img_sunset2)\n",
    "cv.imshow('image_grayscale2',img_sunset_grayscale2)\n",
    "cv.waitKey(0)\n",
    "cv.destroyAllWindows()"
   ]
  },
  {
   "cell_type": "code",
   "execution_count": 6,
   "id": "c8d4644a",
   "metadata": {},
   "outputs": [],
   "source": [
    "#Question 3\n",
    "\n",
    "cap = cv.VideoCapture('videos/videos/img_pexels.mp4')\n",
    "#width,height of frame,fourccc,fps\n",
    "width = int(cap.get(3))\n",
    "height = int(cap.get(4))\n",
    "# define the codec and create VideoWriter object\n",
    "fourcc = cv.VideoWriter_fourcc('M', 'J', 'P', 'G')\n",
    "fps = 20\n",
    "out = cv.VideoWriter('videos/videos/smaller_img_pexels.avi', fourcc, fps, (width, height))\n",
    "\n",
    "while cap.isOpened():\n",
    "    ret, frame = cap.read()\n",
    "    \n",
    "    if not ret:\n",
    "        print(\"Can't receive frame\")\n",
    "        break\n",
    "        \n",
    "    #resize the frame \n",
    "    frame= cv.resize(frame,(350,300))\n",
    "    # horizontal flip    \n",
    "    frame = cv.flip(frame, 1)\n",
    "    # write the flipped frame\n",
    "    out.write(frame)\n",
    "    \n",
    "    cv.imshow('frame', frame)\n",
    "    if cv.waitKey(1) & 0xFF == 27:\n",
    "        break\n",
    "        \n",
    "cap.release()\n",
    "out.release()\n",
    "cv.destroyAllWindows()"
   ]
  },
  {
   "cell_type": "code",
   "execution_count": null,
   "id": "b8396118",
   "metadata": {},
   "outputs": [],
   "source": [
    "#Question 3\n",
    "cap = cv.VideoCapture('videos/videos/img_pexels.mp4')\n",
    "#width,height of frame,fourccc,fps\n",
    "width = int(cap.get(3))\n",
    "height = int(cap.get(4))\n",
    "# define the codec and create VideoWriter object\n",
    "fourcc = cv.VideoWriter_fourcc(*'MP4V')\n",
    "fps = 20\n",
    "out = cv.VideoWriter('videos/videos/smaller_img_pexels.mp4', fourcc, fps, (width, height))\n",
    "\n",
    "while cap.isOpened():\n",
    "    ret, frame = cap.read()\n",
    "    \n",
    "    if not ret:\n",
    "        print(\"Can't receive frame\")\n",
    "        break\n",
    "        \n",
    "    #resize the frame \n",
    "    frame= cv.resize(frame,(350,300))\n",
    "    # horizontal flip    \n",
    "    frame = cv.flip(frame, 1)\n",
    "    # write the flipped frame\n",
    "    out.write(frame)\n",
    "    \n",
    "    cv.imshow('frame', frame)\n",
    "    if cv.waitKey(1) & 0xFF == 27:\n",
    "        break\n",
    "        \n",
    "cap.release()\n",
    "out.release()\n",
    "cv.destroyAllWindows()"
   ]
  },
  {
   "cell_type": "code",
   "execution_count": 7,
   "id": "cd00380e",
   "metadata": {},
   "outputs": [],
   "source": [
    "#Question 4(a)\n",
    "#Linear interpolation.\n",
    "img = cv.imread('images/images/dog.jfif')\n",
    "h,w,c = img.shape\n",
    "\n",
    "img_l = cv.resize(img, (w//2, h//2), interpolation = cv.INTER_LINEAR);\n",
    "img_l = cv.resize(img_l, (w, h), interpolation = cv.INTER_LINEAR);\n",
    "cv.imshow('image',img)\n",
    "cv.waitKey(0)\n",
    "cv.destroyAllWindows()"
   ]
  },
  {
   "cell_type": "code",
   "execution_count": 8,
   "id": "a808b89a",
   "metadata": {},
   "outputs": [],
   "source": [
    "#Question 4(b)\n",
    "#Cubic interpolation.\n",
    "img = cv.imread('images/images/dog.jfif')\n",
    "h,w,c = img.shape\n",
    "\n",
    "img_c= cv.resize(img, (w//2, h//2), interpolation = cv.INTER_CUBIC);\n",
    "img_c = cv.resize(img_c, (w, h), interpolation = cv.INTER_CUBIC);\n",
    "cv.imshow('image',img)\n",
    "cv.waitKey(0)\n",
    "cv.destroyAllWindows()"
   ]
  },
  {
   "cell_type": "code",
   "execution_count": 9,
   "id": "716d9073",
   "metadata": {},
   "outputs": [],
   "source": [
    "#Question 4(c)\n",
    "#Nearest neighbor interpolation.\n",
    "img = cv.imread('images/images/dog.jfif')\n",
    "h,w,c = img.shape\n",
    "\n",
    "img_n = cv.resize(img, (w//2, h//2), interpolation = cv.INTER_NEAREST);\n",
    "img_n = cv.resize(img_n, (w, h), interpolation = cv.INTER_NEAREST);\n",
    "cv.imshow('image',img)\n",
    "cv.waitKey(0)\n",
    "cv.destroyAllWindows()"
   ]
  },
  {
   "cell_type": "code",
   "execution_count": null,
   "id": "ebb6c9ed",
   "metadata": {},
   "outputs": [],
   "source": []
  }
 ],
 "metadata": {
  "kernelspec": {
   "display_name": "Python 3 (ipykernel)",
   "language": "python",
   "name": "python3"
  },
  "language_info": {
   "codemirror_mode": {
    "name": "ipython",
    "version": 3
   },
   "file_extension": ".py",
   "mimetype": "text/x-python",
   "name": "python",
   "nbconvert_exporter": "python",
   "pygments_lexer": "ipython3",
   "version": "3.10.9"
  }
 },
 "nbformat": 4,
 "nbformat_minor": 5
}
