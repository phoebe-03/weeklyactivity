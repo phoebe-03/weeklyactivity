{
 "cells": [
  {
   "cell_type": "code",
   "execution_count": 1,
   "id": "1b489e67",
   "metadata": {},
   "outputs": [],
   "source": [
    "import cv2 as cv\n",
    "import sys\n",
    "import numpy as np \n",
    "from utils import display_images, display_image"
   ]
  },
  {
   "cell_type": "code",
   "execution_count": 2,
   "id": "f3b00d2a",
   "metadata": {},
   "outputs": [],
   "source": [
    "#Question 1\n",
    "img = cv.imread('images/images/native-bee.png')\n",
    "kernel = np.array([[0,-1,0],[-1,5,-1],[0,-1,0]])\n",
    "dst = cv.filter2D(img, -1, kernel)\n",
    "display_images([img, dst], (\"original\", \"sharpened\"))"
   ]
  },
  {
   "cell_type": "code",
   "execution_count": 3,
   "id": "36321b4b",
   "metadata": {},
   "outputs": [],
   "source": [
    "kernel = np.array([[-1,-1,-1,-1,-1],[-1,-1,-1,-1,-1],[-1,-1,25,-1,-1],[-1,-1,-1,-1,-1],[-1,-1,-1,-1,-1]])\n",
    "dst = cv.filter2D(img, -1, kernel)\n",
    "display_images([img, dst], (\"original\", \"sharpened\"))"
   ]
  },
  {
   "cell_type": "markdown",
   "id": "c8b30b5a",
   "metadata": {},
   "source": [
    "The images for 5X5 shows more sharpened, more details (such as the outline) can be observed. "
   ]
  },
  {
   "cell_type": "code",
   "execution_count": 4,
   "id": "96878a45",
   "metadata": {},
   "outputs": [],
   "source": [
    "#Question 2\n",
    "img = cv.imread('images/images/noise_lena.jpg')\n",
    "\n",
    "averaging = cv.blur(img, (5, 5))\n",
    "gaussian = cv.GaussianBlur(img, (5, 5), 0)\n",
    "median = cv.medianBlur(img,5)\n",
    "\n",
    "display_images([img, averaging,gaussian,median], (\"original\", \"averaging\",\"gaussian\",\"median\"))"
   ]
  },
  {
   "cell_type": "markdown",
   "id": "9c2bbf78",
   "metadata": {},
   "source": [
    "The noise under median smoothing has been reduced, while other methods cannot. Median smoothing method best in removing salt and pepper noise."
   ]
  },
  {
   "cell_type": "code",
   "execution_count": 8,
   "id": "9eef51b7",
   "metadata": {},
   "outputs": [],
   "source": [
    "#Question 3\n",
    "img = cv.imread('images/images/boat.jpg')\n",
    "gray = cv.cvtColor(img,cv.COLOR_BGR2GRAY)\n",
    "\n",
    "ret, th = cv.threshold(gray, 0, 255, cv.THRESH_BINARY_INV + cv.THRESH_OTSU)\n",
    "\n",
    "contours, _ = cv.findContours(th, cv.RETR_EXTERNAL, cv.CHAIN_APPROX_SIMPLE)\n",
    "img_copy = img.copy()\n",
    "\n",
    "contours, _ = cv.findContours(th, cv.RETR_EXTERNAL, cv.CHAIN_APPROX_SIMPLE)\n",
    "contour_max_area = max(contours,key=cv.contourArea)\n",
    "\n",
    "x , y , w , h = cv.boundingRect(contour_max_area)\n",
    "img_copy=img.copy()\n",
    "\n",
    "cv.rectangle(img_copy,(x,y),(x+w,y+h),(0,255,0),1)\n",
    "\n",
    "display_image(\"result\",img_copy)"
   ]
  },
  {
   "cell_type": "code",
   "execution_count": null,
   "id": "5c0cfb3d",
   "metadata": {},
   "outputs": [],
   "source": []
  }
 ],
 "metadata": {
  "kernelspec": {
   "display_name": "Python 3 (ipykernel)",
   "language": "python",
   "name": "python3"
  },
  "language_info": {
   "codemirror_mode": {
    "name": "ipython",
    "version": 3
   },
   "file_extension": ".py",
   "mimetype": "text/x-python",
   "name": "python",
   "nbconvert_exporter": "python",
   "pygments_lexer": "ipython3",
   "version": "3.10.9"
  }
 },
 "nbformat": 4,
 "nbformat_minor": 5
}
