{
 "cells": [
  {
   "cell_type": "code",
   "execution_count": 1,
   "id": "4e0b1d82",
   "metadata": {},
   "outputs": [],
   "source": [
    "#Exercise 1 \n",
    "import cv2 as cv\n",
    "import numpy as np\n",
    "import matplotlib.pyplot as plt"
   ]
  },
  {
   "cell_type": "code",
   "execution_count": 3,
   "id": "c480f025",
   "metadata": {},
   "outputs": [
    {
     "name": "stdout",
     "output_type": "stream",
     "text": [
      "Requirement already satisfied: imutils in c:\\users\\wongp\\anaconda3\\lib\\site-packages (0.5.4)\n",
      "Note: you may need to restart the kernel to use updated packages.\n"
     ]
    }
   ],
   "source": [
    "pip install imutils"
   ]
  },
  {
   "cell_type": "code",
   "execution_count": 4,
   "id": "33ed1a21",
   "metadata": {},
   "outputs": [],
   "source": [
    "import imutils \n",
    "#Way 1\n",
    "img = cv.imread('images/images/lena.jfif')\n",
    "rotate_img=imutils.rotate_bound(img,angle=45)\n",
    "cv.imshow('ori',img)\n",
    "cv.imshow('rotate',rotate_img)\n",
    "cv.waitKey(0)\n",
    "cv.destroyAllWindows()"
   ]
  },
  {
   "cell_type": "code",
   "execution_count": 7,
   "id": "80360bca",
   "metadata": {},
   "outputs": [],
   "source": [
    "#Way 2\n",
    "height,width = img.shape[:2]\n",
    "center = (width//2,height//2)\n",
    "angle = 45\n",
    "scale = 0.7\n",
    "\n",
    "M =cv.getRotationMatrix2D(center,angle,scale)\n",
    "dst = cv.warpAffine(img, M, (width,height))\n",
    "\n",
    "cv.imshow('ori',img)\n",
    "cv.imshow('rotate',dst)\n",
    "cv.waitKey(0)\n",
    "cv.destroyAllWindows()"
   ]
  },
  {
   "cell_type": "code",
   "execution_count": 8,
   "id": "0dd55f36",
   "metadata": {},
   "outputs": [],
   "source": [
    "#Exercise 2\n",
    "img_fl = cv.imread ('images/images/flower.jfif')\n",
    "img_bee = cv.imread('images/images/native-bee.png')\n",
    "rows,cols,channels = img_fl.shape\n",
    "roi = img_bee[0:rows, 0:cols]\n",
    "\n",
    "img_fl_gray = cv.cvtColor(img_fl,cv.COLOR_BGR2GRAY)\n",
    "ret, mask = cv.threshold(img_fl_gray, 120, 255, cv.THRESH_BINARY)\n",
    "mask_inv = cv.bitwise_not(mask)\n",
    "\n",
    "img_bee_bg = cv.bitwise_and(roi,roi,mask = mask_inv)\n",
    "\n",
    "img_fl_fg = cv.bitwise_and(img_fl,img_fl,mask = mask)\n",
    "\n",
    "dst = cv.add(img_bee_bg,img_fl_fg)\n",
    "img_bee[0:rows, 0:cols ] = dst\n",
    " \n",
    "cv.imshow('result',img_bee)\n",
    "cv.waitKey(0)\n",
    "cv.destroyAllWindows()"
   ]
  },
  {
   "cell_type": "code",
   "execution_count": 9,
   "id": "8a886614",
   "metadata": {},
   "outputs": [],
   "source": [
    "#Exercise 3 \n",
    "def random_center_crop(image, min_crop_ratio, max_crop_ratio):\n",
    "    \n",
    "    height, width = image.shape[:2]\n",
    "    min_crop_size = int(min(height, width) * min_crop_ratio)\n",
    "    max_crop_size = int(min(height, width) * max_crop_ratio)\n",
    "    \n",
    "    crop_size = int(np.random.uniform(min_crop_size, max_crop_size))\n",
    "\n",
    "    # Calculate the coordinates for the crop\n",
    "    x1 = max(0,(width - crop_size) // 2)\n",
    "    y1 = max(0,(height- crop_size) // 2)\n",
    "    x2 = x1 + crop_size \n",
    "    y2 = y1 + crop_size\n",
    "    \n",
    "    # Crop the image\n",
    "    cropped_image = image[y1:y2, x1:x2]\n",
    "    \n",
    "    return cropped_image"
   ]
  },
  {
   "cell_type": "code",
   "execution_count": 10,
   "id": "70d0d893",
   "metadata": {},
   "outputs": [],
   "source": [
    "cropped_image = random_center_crop(img_bee,0.5, 0.5)\n",
    "cv.imshow(\"result\",cropped_image)"
   ]
  },
  {
   "cell_type": "code",
   "execution_count": 16,
   "id": "4b0a641d",
   "metadata": {},
   "outputs": [],
   "source": [
    "#Exercise 4\n",
    "from skimage.util import random_noise"
   ]
  },
  {
   "cell_type": "code",
   "execution_count": 19,
   "id": "2246427b",
   "metadata": {},
   "outputs": [],
   "source": [
    "#display image with noise \n",
    "img_boat=cv.imread('images/images/boat.jpg')\n",
    "noise_img = random_noise(img_boat,mode='s&p',amount=0.3) #add salt and pepper\n",
    "noise_img = np.array(255*noise_img, dtype = 'uint8')\n",
    "\n",
    "cv.imshow(\"Img_Noise\",noise_img)\n",
    "cv.waitKey(0)\n",
    "cv.destroyAllWindows() "
   ]
  },
  {
   "cell_type": "code",
   "execution_count": null,
   "id": "2c412a75",
   "metadata": {},
   "outputs": [],
   "source": []
  }
 ],
 "metadata": {
  "kernelspec": {
   "display_name": "Python 3 (ipykernel)",
   "language": "python",
   "name": "python3"
  },
  "language_info": {
   "codemirror_mode": {
    "name": "ipython",
    "version": 3
   },
   "file_extension": ".py",
   "mimetype": "text/x-python",
   "name": "python",
   "nbconvert_exporter": "python",
   "pygments_lexer": "ipython3",
   "version": "3.10.9"
  }
 },
 "nbformat": 4,
 "nbformat_minor": 5
}
